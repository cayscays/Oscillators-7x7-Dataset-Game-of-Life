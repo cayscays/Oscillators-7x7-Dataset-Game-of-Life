{
  "nbformat": 4,
  "nbformat_minor": 0,
  "metadata": {
    "colab": {
      "provenance": []
    },
    "kernelspec": {
      "name": "python3",
      "display_name": "Python 3"
    },
    "language_info": {
      "name": "python"
    }
  },
  "cells": [
    {
      "cell_type": "markdown",
      "source": [
        "#Conway's Game of Life Oscillators Dataset Generator\n",
        "\n",
        "This Jupyter Notebook generates a dataset of Conway's Game of Life oscillators.\n",
        "\n",
        "Author: cayscays\n",
        "\n",
        "Date: December 2021\n",
        "\n",
        "Website:  https://github.com/cayscays/\n",
        "\n",
        "---\n",
        "\n"
      ],
      "metadata": {
        "id": "EBLmwk2tshqK"
      }
    },
    {
      "cell_type": "markdown",
      "source": [
        "This code implements a dataset generator for Conway's Game of Life, focusing on identifying oscillators within the cellular automaton. It defines functions to initialize a grid, calculate the next state based on Conway's rules, and determine if a specific configuration represents an oscillator. The script utilizes binary numbers to represent the states of the grid and iterates through generations to identify oscillating patterns. The resulting dataset can be used for further analysis or experimentation with Conway's Game of Life.\n",
        "\n",
        "\n",
        "### Constants\n",
        "\n",
        "This section defines constants used throughout the script:\n",
        "\n",
        "- `GRID_SIZE`: Represents the size of the grid in Conway's Game of Life. It determines the dimensions of the grid, with a total of GRID_SIZE * GRID_SIZE cells.\n",
        "  \n",
        "- `MAX_GENERATION`: Specifies the maximum number of generations to simulate in Conway's Game of Life. After reaching this limit, the simulation stops, regardless of the state of the grid.\n",
        "  \n",
        "- `MAX_PATTERN`: Calculates the maximum pattern value that can be used to initialize the grid. This value is derived from the size of the grid and is used to iterate through all possible initial configurations during dataset generation."
      ],
      "metadata": {
        "id": "1PDmQEdbvuis"
      }
    },
    {
      "cell_type": "code",
      "source": [
        "# Constants\n",
        "GRID_SIZE = 7\n",
        "MAX_GENERATION = 15\n",
        "MAX_PATTERN = 2 ** (GRID_SIZE * GRID_SIZE) - 1"
      ],
      "metadata": {
        "id": "6ET6XJHP5xwk"
      },
      "execution_count": null,
      "outputs": []
    },
    {
      "cell_type": "markdown",
      "source": [
        "### Function Definitions\n",
        "\n",
        "These functions implement the core logic for generating Conway's Game of Life oscillators dataset, including calculating the next cell state, initializing the grid, comparing states, and determining if a pattern represents an oscillator.\n",
        "\n"
      ],
      "metadata": {
        "id": "2FnT1zs85yhY"
      }
    },
    {
      "cell_type": "code",
      "source": [
        "# Author: cayscays\n",
        "# Website:  https://github.com/cayscays/\n",
        "\n",
        "def cell_next_gen(cell, environment_sum):\n",
        "    \"\"\"\n",
        "    Calculates the value of a cell in the next generation\n",
        "    Cell's next value\n",
        "    1 = alive\n",
        "    0 = dead\n",
        "\n",
        "    Parameters:\n",
        "        cell (int): Current state of the cell (alive or dead).\n",
        "        environment_sum (int): Sum of the neighboring cells's values.\n",
        "\n",
        "    Returns:\n",
        "        int: Next state of the cell.\n",
        "    \"\"\"\n",
        "    if cell == 1:\n",
        "        if environment_sum < 2 or environment_sum > 3:\n",
        "            return 0\n",
        "        else:\n",
        "            return 1\n",
        "    elif cell == 0 and environment_sum == 3:\n",
        "        return 1\n",
        "    else:\n",
        "        return 0\n",
        "\n",
        "\n",
        "def init_grid(pattern):\n",
        "    \"\"\"\n",
        "    Initialize a grid with a given pattern.\n",
        "\n",
        "    Parameters:\n",
        "        pattern (int): Treated as a binary number representing the pattern. Each bit corresponds to a cell, where 0 indicates a dead cell and 1 indicates a live cell.\n",
        "\n",
        "    Returns:\n",
        "        list: Initialized grid in flattened form (one dimension instead of two).\n",
        "    \"\"\"\n",
        "    grid = []\n",
        "    for i in range(GRID_SIZE * GRID_SIZE):\n",
        "        grid.append(pattern % 2)\n",
        "        pattern = int(pattern / 2)\n",
        "    return grid\n",
        "\n",
        "\n",
        "def deep_copy(state):\n",
        "    \"\"\"\n",
        "    Return a deep copy of a state.\n",
        "\n",
        "    Parameters:\n",
        "        state (list): The grid to be copied.\n",
        "\n",
        "    Returns:\n",
        "        list: Deep copy of the state.\n",
        "    \"\"\"\n",
        "    grid = []\n",
        "    for i in range(GRID_SIZE * GRID_SIZE):\n",
        "        grid.append(state[i])\n",
        "    return grid\n",
        "\n",
        "\n",
        "def equals(state1, state2):\n",
        "    \"\"\"\n",
        "    Compare two states for equality.\n",
        "\n",
        "    Parameters:\n",
        "        state1 (list): The first state to compare.\n",
        "        state2 (list): The second state to compare.\n",
        "\n",
        "    Returns:\n",
        "        bool: True if the states are equal, False otherwise.\n",
        "    \"\"\"\n",
        "    for i in range(GRID_SIZE * GRID_SIZE):\n",
        "        if state1[i] != state2[i]:\n",
        "            return False\n",
        "    return True\n",
        "\n",
        "\n",
        "def get_environment_sum(state, i):\n",
        "    \"\"\"\n",
        "    Return the sum of the cells of a given cell's environment.\n",
        "\n",
        "    The grid's edges are treated as if they extend to infinity, with neighbors beyond the edges assumed to be dead (0).\n",
        "\n",
        "    Parameters:\n",
        "        state (list): The current state of the grid.\n",
        "        i (int): Index of the cell.\n",
        "\n",
        "    Returns:\n",
        "        int: Sum of the cells of the cell's environment.\n",
        "    \"\"\"\n",
        "    sum = 0\n",
        "    # Determine the neighbors of cell i on the grid:\n",
        "    top = i > GRID_SIZE - 1\n",
        "    bottom = i < (GRID_SIZE * GRID_SIZE - GRID_SIZE)\n",
        "    left = (i % GRID_SIZE) != 0\n",
        "    right = ((i + 1) % GRID_SIZE) != 0\n",
        "\n",
        "    # Calculate the sum of the neighboring cells of cell i.\n",
        "    if top and right:\n",
        "        sum += state[i - GRID_SIZE + 1]\n",
        "    if top:\n",
        "        sum += state[i - GRID_SIZE]\n",
        "    if top and left:\n",
        "        sum += state[i - GRID_SIZE - 1]\n",
        "    if left:\n",
        "        sum += state[i - 1]\n",
        "    if left and bottom:\n",
        "        sum += state[i + GRID_SIZE - 1]\n",
        "    if bottom:\n",
        "        sum += state[i + GRID_SIZE]\n",
        "    if right and bottom:\n",
        "        sum += state[i + GRID_SIZE + 1]\n",
        "    if right:\n",
        "        sum += state[i + 1]\n",
        "    return sum\n",
        "\n",
        "\n",
        "def get_next_state(state):\n",
        "    \"\"\"\n",
        "    Return the next configuration of a given state based on Conway's Game of Life rules.\n",
        "\n",
        "    Parameters:\n",
        "        state (list): The current state of the grid.\n",
        "\n",
        "    Returns:\n",
        "        list: The next state of the grid.\n",
        "    \"\"\"\n",
        "    next_state = []\n",
        "    for i in range(GRID_SIZE * GRID_SIZE):\n",
        "        next_state.append(cell_next_gen(cell=state[i], environment_sum=get_environment_sum(state, i)))\n",
        "    return next_state\n",
        "\n",
        "\n",
        "def get_is_oscillator(pattern):\n",
        "    \"\"\"\n",
        "    Determine if a given pattern represents an Oscillator in Conway's Game of Life.\n",
        "\n",
        "    Parameters:\n",
        "        pattern (int): Treated as a binary number representing the pattern. Each bit corresponds to a cell, where 0 indicates a dead cell and 1 indicates a live cell.\n",
        "\n",
        "    Returns:\n",
        "        bool: True if the pattern represents an Oscillator, False otherwise.\n",
        "    \"\"\"\n",
        "    original_state = init_grid(pattern)\n",
        "    current_state = init_grid(pattern)\n",
        "    for generation in range(MAX_GENERATION):\n",
        "        prev_state = deep_copy(current_state)\n",
        "        current_state = get_next_state(prev_state)\n",
        "        # If its a still life --> not an oscillator\n",
        "        if equals(current_state, prev_state):\n",
        "            return False\n",
        "        elif equals(current_state, original_state):\n",
        "            return True\n",
        "    return False\n",
        "\n",
        "def generate_oscillator_list(start, end):\n",
        "    \"\"\"\n",
        "    Generates a list of oscillators' indexes within the specified range.\n",
        "\n",
        "    Parameters:\n",
        "        start (int): The starting index.\n",
        "        end (int): The ending index.\n",
        "\n",
        "    Returns:\n",
        "        None\n",
        "    \"\"\"\n",
        "    print('List of oscillators:')\n",
        "    print('Process began at index', start)\n",
        "    for pattern_index in range(start, end):\n",
        "        if get_is_oscillator(pattern_index):\n",
        "            print(\"Pattern index =\", str(pattern_index))\n",
        "    print('Process completed at index', end)\n"
      ],
      "metadata": {
        "id": "835Pts3os2xy"
      },
      "execution_count": null,
      "outputs": []
    },
    {
      "cell_type": "markdown",
      "source": [
        "### Generating Oscillator Database\n",
        "\n",
        "This section creates a database of oscillators using Conway's Game of Life rules. The process involves iterating through patterns and identifying oscillators within the specified range.\n",
        "\n"
      ],
      "metadata": {
        "id": "ixilbzrz3G4S"
      }
    },
    {
      "cell_type": "code",
      "source": [
        "# Creates the database of oscillators using Conway's Game of Life rules.\n",
        "# Now's a good time for a break while the database is being built :)\n",
        "start = 0\n",
        "end = 100000\n",
        "\n",
        "generate_oscillator_list(start, end)\n"
      ],
      "metadata": {
        "colab": {
          "base_uri": "https://localhost:8080/"
        },
        "id": "am__0yk03HDa",
        "outputId": "d9903d41-c972-4697-8f52-b175d5734ade"
      },
      "execution_count": null,
      "outputs": [
        {
          "output_type": "stream",
          "name": "stdout",
          "text": [
            "List of oscillators:\n",
            "Process began at index 0\n",
            "Pattern index = 896\n",
            "Pattern index = 1792\n",
            "Pattern index = 3584\n",
            "Pattern index = 7168\n",
            "Pattern index = 13280\n",
            "Pattern index = 14336\n",
            "Pattern index = 14723\n",
            "Pattern index = 15232\n",
            "Pattern index = 33026\n",
            "Pattern index = 45410\n",
            "Pattern index = 47362\n",
            "Pattern index = 47746\n",
            "Pattern index = 47747\n",
            "Pattern index = 63872\n",
            "Pattern index = 64130\n",
            "Pattern index = 66052\n",
            "Process completed at index 100000\n"
          ]
        }
      ]
    },
    {
      "cell_type": "code",
      "source": [
        "# Creates the database of oscillators using Conway's Game of Life rules.\n",
        "# Now's a good time for a break while the database is being built :)\n",
        "start = 100001\n",
        "end = 200000\n",
        "\n",
        "generate_oscillator_list(start, end)"
      ],
      "metadata": {
        "colab": {
          "base_uri": "https://localhost:8080/"
        },
        "id": "UbgRw1at-gho",
        "outputId": "ad18f14e-0107-43ea-a02e-827a6e4310f2"
      },
      "execution_count": null,
      "outputs": [
        {
          "output_type": "stream",
          "name": "stdout",
          "text": [
            "List of oscillators:\n",
            "Process began at index 100001\n",
            "Pattern index = 114688\n",
            "Pattern index = 116480\n",
            "Pattern index = 127072\n",
            "Pattern index = 129024\n",
            "Pattern index = 132104\n",
            "Process completed at index 200000\n"
          ]
        }
      ]
    },
    {
      "cell_type": "markdown",
      "source": [
        "Find all the oscillators in a single run:"
      ],
      "metadata": {
        "id": "KlWzuuew-7rg"
      }
    },
    {
      "cell_type": "code",
      "source": [
        "# Creates the database of oscillators using Conway's Game of Life rules.\n",
        "# Now's a good time for a break while the database is being built :)\n",
        "start = 0\n",
        "end = MAX_PATTERN\n",
        "\n",
        "generate_oscillator_list(start, end)"
      ],
      "metadata": {
        "id": "2PGc-JRg-g8M"
      },
      "execution_count": null,
      "outputs": []
    },
    {
      "cell_type": "markdown",
      "source": [
        "Thank you for reviewing Conway_Game_of_Life_Oscillator_Database_Generator!\n",
        "\n",
        "Created by cayscays."
      ],
      "metadata": {
        "id": "WcVGQgJH_g0F"
      }
    }
  ]
}